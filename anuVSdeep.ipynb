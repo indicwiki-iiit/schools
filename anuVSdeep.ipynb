{
 "cells": [
  {
   "cell_type": "code",
   "execution_count": null,
   "metadata": {},
   "outputs": [],
   "source": [
    "import re\n",
    "import pickle\n",
    "\n",
    "# from deeptranslit import DeepTranslit\n",
    "# trans = DeepTranslit('telugu').transliterate\n",
    "\n",
    "from anuvaad import Anuvaad\n",
    "anu =Anuvaad('english-telugu')"
   ]
  },
  {
   "cell_type": "code",
   "execution_count": 14,
   "metadata": {},
   "outputs": [
    {
     "name": "stdout",
     "output_type": "stream",
     "text": [
      "[{'pred': 'అనంతపూర్', 'prob': 0.3072488760625881}]\n",
      "అనంతపురం\n",
      "\n",
      "\n",
      "[{'pred': 'గుంటూరు', 'prob': 0.6857164830827389}]\n",
      "గన్ టూరు\n",
      "\n",
      "\n",
      "[{'pred': 'చితోర్', 'prob': 0.37405630308074345}]\n",
      "చిటూర్\n",
      "\n",
      "\n",
      "[{'pred': 'రూరాల్', 'prob': 0.31840112540366294}]\n",
      "గ్రామీణ\n",
      "\n",
      "\n",
      "[{'pred': 'తెలుగు', 'prob': 0.8601553037226787}]\n",
      "తెలుగు\n",
      "\n",
      "\n",
      "[{'pred': 'ఇంగ్లీష్', 'prob': 0.40000686617228143}]\n",
      "ఇంగ్లీష్\n",
      "\n",
      "\n",
      "[{'pred': 'కన్నాడ', 'prob': 0.07327824105234367}]\n",
      "కన్నడ\n",
      "\n",
      "\n",
      "[{'pred': 'కాలనీ', 'prob': 0.5638632411738628}]\n",
      "కాలనీ\n",
      "\n",
      "\n",
      "[{'pred': 'స్కూల్', 'prob': 0.6439062957920922}]\n",
      "పాఠశాల\n",
      "\n",
      "\n"
     ]
    }
   ],
   "source": [
    "line =\"anantapur guntur chitoor rural telugu english kannada colony school\"\n",
    "words =line.split()\n",
    "\n",
    "for word in words:\n",
    "    print(trans(word))\n",
    "    print(anu.anuvaad(word))\n",
    "    print(\"\\n\")"
   ]
  },
  {
   "cell_type": "code",
   "execution_count": 37,
   "metadata": {},
   "outputs": [
    {
     "name": "stdout",
     "output_type": "stream",
     "text": [
      "[{'pred': 'ఎంపీపీ', 'prob': 0.27388757209203085}]\n",
      "ఎంపీపీ-జడ్పీపీ\n"
     ]
    }
   ],
   "source": [
    "print(trans(\"mpp\"))\n",
    "print(anu.anuvaad(\"MPP_ZPP\"))"
   ]
  },
  {
   "cell_type": "code",
   "execution_count": null,
   "metadata": {},
   "outputs": [],
   "source": []
  }
 ],
 "metadata": {
  "kernelspec": {
   "display_name": "Python 3",
   "language": "python",
   "name": "python3"
  },
  "language_info": {
   "codemirror_mode": {
    "name": "ipython",
    "version": 3
   },
   "file_extension": ".py",
   "mimetype": "text/x-python",
   "name": "python",
   "nbconvert_exporter": "python",
   "pygments_lexer": "ipython3",
   "version": "3.8.5"
  }
 },
 "nbformat": 4,
 "nbformat_minor": 4
}
